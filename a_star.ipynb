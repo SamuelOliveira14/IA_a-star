{
 "cells": [
  {
   "cell_type": "markdown",
   "metadata": {},
   "source": [
    "## Imports and functions"
   ]
  },
  {
   "cell_type": "code",
   "execution_count": 17,
   "metadata": {},
   "outputs": [],
   "source": [
    "import networkx as nx #pip install networkx[default]\n",
    "import matplotlib.pyplot as plt #pip install -U matplotlib\n",
    "\n",
    "START = 1\n",
    "FINISH = 2\n",
    "BLOCKED = -1\n",
    "PATH = 0\n",
    "\n",
    "def manhattan(node1,node2):\n",
    "    x1,y1 = node1\n",
    "    x2,y2 = node2\n",
    "\n",
    "    return abs((x2-x1) + (y2-y1))\n",
    "\n",
    "def a_star(g:nx.Graph,start,finish,heuristic):\n",
    "\n",
    "    def least_f_cost_node(node_list):\n",
    "        min = g.nodes[node_list[0]]['f_cost']\n",
    "        min_node = node_list[0]\n",
    "        for node in node_list:\n",
    "            if g.nodes[node]['f_cost'] < min:\n",
    "                min = g.nodes[node]['f_cost']\n",
    "                min_node = node\n",
    "        return min_node\n",
    "\n",
    "    def find_father(node):\n",
    "        return g.nodes[node]['father']\n",
    "\n",
    "    def backtrack(node):\n",
    "        best_path = []\n",
    "        father = find_father(node)\n",
    "        while father != find_father(father):\n",
    "            best_path.append(father)\n",
    "            father = find_father(father)\n",
    "        best_path.append(father)\n",
    "        best_path.insert(0, g.graph['finish'])\n",
    "            \n",
    "        return best_path\n",
    "            \n",
    "\n",
    "    closed = []\n",
    "    open = []\n",
    "\n",
    "    g.nodes[start]['g_cost'] = 0\n",
    "    g.nodes[start]['f_cost'] = 0\n",
    "    g.nodes[start]['father'] = start\n",
    "    open.insert(0,start)\n",
    "\n",
    "    while len(open) > 0:\n",
    "        current = least_f_cost_node(open)\n",
    "\n",
    "        if current == finish:\n",
    "            return backtrack(current)\n",
    "        \n",
    "        for successor in g.adj[current]:\n",
    "            if successor not in open and successor not in closed: #First discover of the node.\n",
    "                g.nodes[successor]['father'] = current\n",
    "                g.nodes[successor]['h_cost'] = heuristic(successor, finish)\n",
    "                g.nodes[successor]['g_cost'] = g.nodes[current]['g_cost'] + 1 # g(v) = g(u) + dist(u,v)\n",
    "                g.nodes[successor]['f_cost'] = g.nodes[successor]['g_cost'] + g.nodes[successor]['h_cost']\n",
    "                open.append(successor)\n",
    "            elif successor not in closed: #Node already discovered:\n",
    "                new_g_cost = g.nodes[current]['g_cost'] + 1\n",
    "                if new_g_cost < g.nodes[successor]['g_cost']: #Verify if this path is shorter than the previous one.\n",
    "                    g.nodes[successor]['g_cost'] = new_g_cost\n",
    "                    g.nodes[successor]['father'] = current\n",
    "\n",
    "        open.remove(current)\n",
    "        closed.append(current)\n",
    "\n",
    "    return -1\n",
    "\n",
    "def remove_unwalkable_edges(graph: nx.Graph,node):\n",
    "    edges = [edge for edge in graph.edges if node in edge]\n",
    "    for edge in edges:\n",
    "        edge1, edge2 = edge\n",
    "        graph.remove_edge(edge1, edge2)\n",
    "\n",
    "def plot_graph(graph, coords=True):\n",
    "    # Plot options:\n",
    "    nx.draw_networkx(graph, with_labels=coords, pos=graph.graph['pos'],node_color=graph.graph['colors'], node_shape='s', node_size = 1200)\n",
    "    if not coords:\n",
    "        nx.draw_networkx_labels(graph,pos=graph.graph['pos'], labels={graph.graph['start']:'start',graph.graph['finish']:'finish'}, font_size=12)\n",
    "    plt.show()\n",
    "\n",
    "def grid_to_graph(grid):\n",
    "    \n",
    "    lines = len(grid)\n",
    "    columns = len(grid[0])\n",
    "    graph = nx.grid_2d_graph(lines,columns)\n",
    "\n",
    "    pos = dict(zip(graph,graph))\n",
    "    pos = {node: (y,abs(x-5)) for (node, (x,y)) in pos.items()}\n",
    "    graph.graph['pos'] = pos\n",
    "    \n",
    "    for i in range(len(grid)):\n",
    "        for j in range(len(grid[i])):\n",
    "            if grid[i][j] == START:\n",
    "                graph.nodes[(i,j)]['type'] = 'start'\n",
    "                graph.nodes[(i,j)]['color'] = 'green'\n",
    "                graph.graph['start'] = (i,j)\n",
    "            elif grid[i][j] == FINISH:\n",
    "                graph.nodes[(i,j)]['type'] = 'finish'\n",
    "                graph.nodes[(i,j)]['color'] = 'gray'\n",
    "                graph.graph['finish'] = (i,j)\n",
    "            elif grid[i][j] == BLOCKED:\n",
    "                  graph.nodes[(i,j)]['type'] = 'wall'\n",
    "                  graph.nodes[(i,j)]['color'] = 'red'\n",
    "                  remove_unwalkable_edges(graph,(i,j))\n",
    "            else:\n",
    "                graph.nodes[(i,j)]['type'] = 'path'\n",
    "                graph.nodes[(i,j)]['color'] = '#41a0ab'\n",
    "            \n",
    "    colors = [graph.nodes[node]['color'] for node in graph.nodes]\n",
    "    graph.graph['colors'] = colors\n",
    "\n",
    "    plot_graph(graph)\n",
    "\n",
    "    return graph"
   ]
  },
  {
   "cell_type": "markdown",
   "metadata": {},
   "source": [
    "## Grid"
   ]
  },
  {
   "cell_type": "code",
   "execution_count": 18,
   "metadata": {},
   "outputs": [
    {
     "data": {
      "image/png": "[encoded data removed]",
      "text/plain": [
       "<Figure size 640x480 with 1 Axes>"
      ]
     },
     "metadata": {},
     "output_type": "display_data"
    },
    {
     "name": "stdout",
     "output_type": "stream",
     "text": [
      "start: (0, 0) finish: (4, 5)\n"
     ]
    }
   ],
   "source": [
    "grid = [[1,-1,0,0,0,0],\n",
    "        [0,0,0,0,0,0],\n",
    "        [0,-1,0,-1,0,0],\n",
    "        [0,-1,0,0,-1,0],\n",
    "        [0,0,0,0,-1,2]]\n",
    "\n",
    "graph = grid_to_graph(grid)\n",
    "print(f'start: {graph.graph[\"start\"]} finish: {graph.graph[\"finish\"]}')"
   ]
  },
  {
   "cell_type": "markdown",
   "metadata": {},
   "source": [
    "## Shortest Path"
   ]
  },
  {
   "cell_type": "code",
   "execution_count": 19,
   "metadata": {},
   "outputs": [
    {
     "name": "stdout",
     "output_type": "stream",
     "text": [
      "Shortest path: [(0, 0), (1, 0), (1, 1), (1, 2), (1, 3), (1, 4), (2, 4), (2, 5), (3, 5), (4, 5)]\n"
     ]
    },
    {
     "data": {
      "image/png": "[encoded data removed]",
      "text/plain": [
       "<Figure size 640x480 with 1 Axes>"
      ]
     },
     "metadata": {},
     "output_type": "display_data"
    }
   ],
   "source": [
    "shortest_path = a_star(graph,graph.graph['start'],graph.graph['finish'], heuristic=manhattan)\n",
    "\n",
    "if shortest_path != -1:\n",
    "    shortest_path.reverse()\n",
    "    for node in shortest_path:\n",
    "        graph.nodes[node]['color'] = 'green'\n",
    "    graph.graph['colors'] = [graph.nodes[node]['color'] for node in graph.nodes]\n",
    "    print('Shortest path:',shortest_path)\n",
    "    plot_graph(graph, coords=False)\n",
    "else:\n",
    "    print('Unreachable')\n",
    "\n"
   ]
  }
 ],
 "metadata": {
  "kernelspec": {
   "display_name": "Python 3",
   "language": "python",
   "name": "python3"
  },
  "language_info": {
   "codemirror_mode": {
    "name": "ipython",
    "version": 3
   },
   "file_extension": ".py",
   "mimetype": "text/x-python",
   "name": "python",
   "nbconvert_exporter": "python",
   "pygments_lexer": "ipython3",
   "version": "3.11.4"
  },
  "orig_nbformat": 4
 },
 "nbformat": 4,
 "nbformat_minor": 2
}
